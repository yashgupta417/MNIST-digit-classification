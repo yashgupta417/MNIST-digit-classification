{
 "cells": [
  {
   "cell_type": "code",
   "execution_count": 1,
   "metadata": {},
   "outputs": [],
   "source": [
    "import numpy as np\n",
    "import struct as st\n"
   ]
  },
  {
   "cell_type": "code",
   "execution_count": 2,
   "metadata": {},
   "outputs": [],
   "source": [
    "import math\n",
    "import matplotlib.pyplot as plt"
   ]
  },
  {
   "cell_type": "code",
   "execution_count": 3,
   "metadata": {},
   "outputs": [],
   "source": [
    "trainingfilenames = {'images' : 'train-images.idx3-ubyte' ,'labels' : 'train-labels.idx1-ubyte'}\n",
    "testfilenames = {'images' : 't10k-images.idx3-ubyte' ,'labels' : 't10k-labels.idx1-ubyte'}\n",
    "\n",
    "data_types = {\n",
    "        0x08: ('ubyte', 'B', 1),\n",
    "        0x09: ('byte', 'b', 1),\n",
    "        0x0B: ('>i2', 'h', 2),\n",
    "        0x0C: ('>i4', 'i', 4),\n",
    "        0x0D: ('>f4', 'f', 4),\n",
    "        0x0E: ('>f8', 'd', 8)}\n"
   ]
  },
  {
   "cell_type": "code",
   "execution_count": 4,
   "metadata": {},
   "outputs": [
    {
     "name": "stdout",
     "output_type": "stream",
     "text": [
      "Training Dataset.......\n",
      "Data is 3-D\n",
      "Data Type ::  ubyte\n",
      "Data Format ::  B\n",
      "Data Size :: 1 byte\n",
      "\n",
      "no. of images ::  60000\n",
      "no. of rows ::  28\n",
      "no. of columns ::  28\n",
      "Training Set Labels shape :: (60000, 1)\n",
      "Training Set Image shape :: (60000, 28, 28)\n"
     ]
    }
   ],
   "source": [
    "#..........................................................For training dataset..............................................................\n",
    "print(\"Training Dataset.......\")\n",
    "\n",
    "for name in trainingfilenames.keys():\n",
    "\tif name == 'images':\n",
    "\t\ttrain_imagesfile = open(trainingfilenames[name],'rb')\n",
    "\tif name == 'labels':\n",
    "\t\ttrain_labelsfile = open(trainingfilenames[name],'rb')#,encoding='latin-1')\n",
    "\n",
    "train_imagesfile.seek(0)\n",
    "magic = st.unpack('>4B',train_imagesfile.read(4))\n",
    "if(magic[0] and magic[1])or(magic[2] not in data_types):\n",
    "\traise ValueError(\"File Format not correct\")\n",
    "\n",
    "#Information\n",
    "nDim = magic[3]\n",
    "print(\"Data is \"+str(nDim)+\"-D\")\n",
    "dataType = data_types[magic[2]][0]\n",
    "print(\"Data Type :: \",dataType)\n",
    "dataFormat = data_types[magic[2]][1]\n",
    "print(\"Data Format :: \",dataFormat)\n",
    "dataSize = data_types[magic[2]][2]\n",
    "print(\"Data Size :: \"+str(dataSize)+\" byte\\n\")\n",
    "\n",
    "\n",
    "#offset = 0004 for number of images\n",
    "#offset = 0008 for number of rows\n",
    "#offset = 0012 for number of columns\n",
    "#32-bit integer (32 bits = 4 bytes)\n",
    "train_imagesfile.seek(4)\n",
    "nImg = st.unpack('>I',train_imagesfile.read(4))[0] #num of images/labels\n",
    "nR = st.unpack('>I',train_imagesfile.read(4))[0] #num of rows\n",
    "nC = st.unpack('>I',train_imagesfile.read(4))[0] #num of columns\n",
    "\n",
    "train_labelsfile.seek(8) #Since no. of items = no. of images and is already read\n",
    "print(\"no. of images :: \",nImg)\n",
    "print(\"no. of rows :: \",nR)\n",
    "print(\"no. of columns :: \",nC)\n",
    "print\n",
    "#Training set\n",
    "#Reading the labels\n",
    "train_labels_array = np.asarray(st.unpack('>'+dataFormat*nImg,train_labelsfile.read(nImg*dataSize))).reshape((nImg,1))\n",
    "#Reading the Image data\n",
    "nBatch = 10000\n",
    "nIter = int(math.ceil(nImg/nBatch))\n",
    "nBytes = nBatch*nR*nC*dataSize\n",
    "nBytesTot = nImg*nR*nC*dataSize\n",
    "train_images_array = np.array([])\n",
    "for i in range(0,nIter):\n",
    "\t#try:\n",
    "\ttemp_images_array = np.asarray(st.unpack('>'+dataFormat*nBytes,train_imagesfile.read(nBytes))).reshape((nBatch,nR,nC))\n",
    "\t'''except:\n",
    "\t\tnbytes = nBytesTot - (nIter-1)*nBytes\n",
    "\t\ttemp_images_array = 255 - np.asarray(st.unpack('>'+'B'*nbytes,train_imagesfile.read(nbytes))).reshape((nBatch,nR,nC))'''\n",
    "\t#Stacking each nBatch block to form a larger block\n",
    "\tif train_images_array.size == 0:\n",
    "\t\ttrain_images_array = temp_images_array\n",
    "\telse:\n",
    "\t\ttrain_images_array = np.vstack((train_images_array,temp_images_array))\n",
    "\ttemp_images_array = np.array([])\n",
    "\n",
    "print(\"Training Set Labels shape ::\",train_labels_array.shape)\n",
    "print(\"Training Set Image shape ::\",train_images_array.shape)\n"
   ]
  },
  {
   "cell_type": "code",
   "execution_count": 5,
   "metadata": {},
   "outputs": [
    {
     "name": "stdout",
     "output_type": "stream",
     "text": [
      "Test Dataset.......\n",
      "Data is  3 -D\n",
      "no. of images ::  10000\n",
      "no. of rows ::  28\n",
      "no. of columns ::  28\n",
      "\n",
      "\n",
      "Test Set Labels shape :: (10000, 1)\n",
      "Test Set Image shape :: (10000, 28, 28)\n"
     ]
    }
   ],
   "source": [
    "#..........................................................For test dataset..................................................................\n",
    "print(\"Test Dataset.......\")\n",
    "\n",
    "for name in testfilenames.keys():\n",
    "\tif name == 'images':\n",
    "\t\ttest_imagesfile = open(testfilenames[name],'rb')\n",
    "\tif name == 'labels':\n",
    "\t\ttest_labelsfile = open(testfilenames[name],'rb')\n",
    "        \n",
    "test_imagesfile.seek(0)\n",
    "magic = st.unpack('>4B',test_imagesfile.read(4))\n",
    "if(magic[0] and magic[1])or(magic[2] not in data_types):\n",
    "\traise ValueError(\"File Format not correct\")\n",
    "\n",
    "nDim = magic[3]\n",
    "print(\"Data is \",nDim,\"-D\")\n",
    "print\n",
    "#offset = 0004 for number of images\n",
    "#offset = 0008 for number of rows\n",
    "#offset = 0012 for number of columns\n",
    "#32-bit integer (32 bits = 4 bytes)\n",
    "test_imagesfile.seek(4)\n",
    "nImg = st.unpack('>I',test_imagesfile.read(4))[0] #num of images/labels\n",
    "nR = st.unpack('>I',test_imagesfile.read(4))[0] #num of rows\n",
    "nC = st.unpack('>I',test_imagesfile.read(4))[0] #num of columns\n",
    "\n",
    "test_labelsfile.seek(8) #Since no. of items = no. of images and is already read\n",
    "print(\"no. of images :: \",nImg)\n",
    "print(\"no. of rows :: \",nR)\n",
    "print(\"no. of columns :: \",nC)\n",
    "print(\"\\n\")\n",
    "#Test set\n",
    "#Reading the labels\n",
    "test_labels_array = np.asarray(st.unpack('>'+dataFormat*nImg,test_labelsfile.read(nImg*dataSize))).reshape((nImg,1))\n",
    "#Reading the Image data\n",
    "nBatch = 10000\n",
    "nIter = int(math.ceil(nImg/nBatch))\n",
    "nBytes = nBatch*nR*nC*dataSize\n",
    "nBytesTot = nImg*nR*nC*dataSize\n",
    "test_images_array = np.array([])\n",
    "for i in range(0,nIter):\n",
    "\t#try:\n",
    "\ttemp_images_array = np.asarray(st.unpack('>'+dataFormat*nBytes,test_imagesfile.read(nBytes))).reshape((nBatch,nR,nC))\n",
    "\t'''except:\n",
    "\t\tnbytes = nBytesTot - (nIter-1)*nBytes\n",
    "\t\ttemp_images_array = 255 - np.asarray(st.unpack('>'+'B'*nbytes,test_imagesfile.read(nbytes))).reshape((nBatch,nR,nC))'''\n",
    "\t#Stacking each nBatch block to form a larger block\n",
    "\tif test_images_array.size == 0:\n",
    "\t\ttest_images_array = temp_images_array\n",
    "\telse:\n",
    "\t\ttest_images_array = np.vstack((test_images_array,temp_images_array))\n",
    "\ttemp_images_array = np.array([])\n",
    "\n",
    "print(\"Test Set Labels shape ::\",test_labels_array.shape)\n",
    "print(\"Test Set Image shape ::\",test_images_array.shape)"
   ]
  },
  {
   "cell_type": "code",
   "execution_count": 6,
   "metadata": {},
   "outputs": [
    {
     "name": "stdout",
     "output_type": "stream",
     "text": [
      "[[  0   0   0   0   0   0   0   0   0   0   0   0   0   0   0   0   0   0\n",
      "    0   0   0   0   0   0   0   0   0   0]\n",
      " [  0   0   0   0   0   0   0   0   0   0   0   0   0   0   0   0   0   0\n",
      "    0   0   0   0   0   0   0   0   0   0]\n",
      " [  0   0   0   0   0   0   0   0   0   0   0   0   0   0   0   0   0   0\n",
      "    0   0   0   0   0   0   0   0   0   0]\n",
      " [  0   0   0   0   0   0   0   0   0   0   0   0   0   0   0   0   0   0\n",
      "    0   0   0   0   0   0   0   0   0   0]\n",
      " [  0   0   0   0   0   0   0   0   0   0   0   0   0   0   0   0   0   0\n",
      "    0   0   0   0   0   0   0   0   0   0]\n",
      " [  0   0   0   0   0   0   0   0   0   0   0   0   3  18  18  18 126 136\n",
      "  175  26 166 255 247 127   0   0   0   0]\n",
      " [  0   0   0   0   0   0   0   0  30  36  94 154 170 253 253 253 253 253\n",
      "  225 172 253 242 195  64   0   0   0   0]\n",
      " [  0   0   0   0   0   0   0  49 238 253 253 253 253 253 253 253 253 251\n",
      "   93  82  82  56  39   0   0   0   0   0]\n",
      " [  0   0   0   0   0   0   0  18 219 253 253 253 253 253 198 182 247 241\n",
      "    0   0   0   0   0   0   0   0   0   0]\n",
      " [  0   0   0   0   0   0   0   0  80 156 107 253 253 205  11   0  43 154\n",
      "    0   0   0   0   0   0   0   0   0   0]\n",
      " [  0   0   0   0   0   0   0   0   0  14   1 154 253  90   0   0   0   0\n",
      "    0   0   0   0   0   0   0   0   0   0]\n",
      " [  0   0   0   0   0   0   0   0   0   0   0 139 253 190   2   0   0   0\n",
      "    0   0   0   0   0   0   0   0   0   0]\n",
      " [  0   0   0   0   0   0   0   0   0   0   0  11 190 253  70   0   0   0\n",
      "    0   0   0   0   0   0   0   0   0   0]\n",
      " [  0   0   0   0   0   0   0   0   0   0   0   0  35 241 225 160 108   1\n",
      "    0   0   0   0   0   0   0   0   0   0]\n",
      " [  0   0   0   0   0   0   0   0   0   0   0   0   0  81 240 253 253 119\n",
      "   25   0   0   0   0   0   0   0   0   0]\n",
      " [  0   0   0   0   0   0   0   0   0   0   0   0   0   0  45 186 253 253\n",
      "  150  27   0   0   0   0   0   0   0   0]\n",
      " [  0   0   0   0   0   0   0   0   0   0   0   0   0   0   0  16  93 252\n",
      "  253 187   0   0   0   0   0   0   0   0]\n",
      " [  0   0   0   0   0   0   0   0   0   0   0   0   0   0   0   0   0 249\n",
      "  253 249  64   0   0   0   0   0   0   0]\n",
      " [  0   0   0   0   0   0   0   0   0   0   0   0   0   0  46 130 183 253\n",
      "  253 207   2   0   0   0   0   0   0   0]\n",
      " [  0   0   0   0   0   0   0   0   0   0   0   0  39 148 229 253 253 253\n",
      "  250 182   0   0   0   0   0   0   0   0]\n",
      " [  0   0   0   0   0   0   0   0   0   0  24 114 221 253 253 253 253 201\n",
      "   78   0   0   0   0   0   0   0   0   0]\n",
      " [  0   0   0   0   0   0   0   0  23  66 213 253 253 253 253 198  81   2\n",
      "    0   0   0   0   0   0   0   0   0   0]\n",
      " [  0   0   0   0   0   0  18 171 219 253 253 253 253 195  80   9   0   0\n",
      "    0   0   0   0   0   0   0   0   0   0]\n",
      " [  0   0   0   0  55 172 226 253 253 253 253 244 133  11   0   0   0   0\n",
      "    0   0   0   0   0   0   0   0   0   0]\n",
      " [  0   0   0   0 136 253 253 253 212 135 132  16   0   0   0   0   0   0\n",
      "    0   0   0   0   0   0   0   0   0   0]\n",
      " [  0   0   0   0   0   0   0   0   0   0   0   0   0   0   0   0   0   0\n",
      "    0   0   0   0   0   0   0   0   0   0]\n",
      " [  0   0   0   0   0   0   0   0   0   0   0   0   0   0   0   0   0   0\n",
      "    0   0   0   0   0   0   0   0   0   0]\n",
      " [  0   0   0   0   0   0   0   0   0   0   0   0   0   0   0   0   0   0\n",
      "    0   0   0   0   0   0   0   0   0   0]]\n"
     ]
    }
   ],
   "source": [
    "print(train_images_array[0])"
   ]
  },
  {
   "cell_type": "code",
   "execution_count": 7,
   "metadata": {},
   "outputs": [
    {
     "data": {
      "text/plain": [
       "<matplotlib.image.AxesImage at 0x27738c31850>"
      ]
     },
     "execution_count": 7,
     "metadata": {},
     "output_type": "execute_result"
    },
    {
     "data": {
      "image/png": "[encoded data removed]",
      "text/plain": [
       "<Figure size 432x288 with 1 Axes>"
      ]
     },
     "metadata": {
      "needs_background": "light"
     },
     "output_type": "display_data"
    }
   ],
   "source": [
    "plt.imshow(train_images_array[0],cmap='gray')"
   ]
  },
  {
   "cell_type": "code",
   "execution_count": 8,
   "metadata": {},
   "outputs": [
    {
     "name": "stdout",
     "output_type": "stream",
     "text": [
      "[5]\n",
      "60000\n"
     ]
    }
   ],
   "source": [
    "print(train_labels_array[0])\n",
    "#calculating total samples in training data\n",
    "print(len(train_labels_array))"
   ]
  },
  {
   "cell_type": "code",
   "execution_count": 9,
   "metadata": {},
   "outputs": [
    {
     "name": "stdout",
     "output_type": "stream",
     "text": [
      "12665\n"
     ]
    }
   ],
   "source": [
    "#Classifier to distinguish digits 1 and 0\n",
    "c=0\n",
    "\n",
    "#filtering images which are either 0 or 1\n",
    "for i in range(60000):\n",
    "    if (train_labels_array[i]==1) or (train_labels_array[i]==0) :\n",
    "        c=c+1\n",
    "print(c)\n",
    "        "
   ]
  },
  {
   "cell_type": "code",
   "execution_count": 12,
   "metadata": {},
   "outputs": [],
   "source": [
    "#redefining training dataset\n",
    "x_train =np.ndarray(shape=(c,784),dtype='int32')\n",
    "y_train = np.ndarray(shape=(c),dtype='int32')\n",
    "j=0\n",
    "for i in range(60000):\n",
    "    if ((train_labels_array[i]==1) or (train_labels_array[i]==0)) and j<c:\n",
    "        x_train[j]=train_images_array[i].flatten()\n",
    "        y_train[j]=train_labels_array[i]\n",
    "        j=j+1\n"
   ]
  },
  {
   "cell_type": "code",
   "execution_count": 13,
   "metadata": {},
   "outputs": [
    {
     "name": "stdout",
     "output_type": "stream",
     "text": [
      "[0 1 1 ... 1 0 1]\n"
     ]
    }
   ],
   "source": [
    "#check if labels are only either 0 or 1\n",
    "print(y_train)"
   ]
  },
  {
   "cell_type": "code",
   "execution_count": 14,
   "metadata": {},
   "outputs": [
    {
     "name": "stdout",
     "output_type": "stream",
     "text": [
      "[  0   0   0   0   0   0   0   0   0   0   0   0   0   0   0   0   0   0\n",
      "   0   0   0   0   0   0   0   0   0   0   0   0   0   0   0   0   0   0\n",
      "   0   0   0   0   0   0   0   0   0   0   0   0   0   0   0   0   0   0\n",
      "   0   0   0   0   0   0   0   0   0   0   0   0   0   0   0   0   0   0\n",
      "   0   0   0   0   0   0   0   0   0   0   0   0   0   0   0   0   0   0\n",
      "   0   0   0   0   0   0   0   0   0   0   0   0   0   0   0   0   0   0\n",
      "   0   0   0   0   0   0   0   0   0   0   0   0   0   0   0   0 145 255\n",
      " 211  31   0   0   0   0   0   0   0   0   0   0   0   0   0   0   0   0\n",
      "   0   0   0   0   0   0   0  32 237 253 252  71   0   0   0   0   0   0\n",
      "   0   0   0   0   0   0   0   0   0   0   0   0   0   0   0   0   0  11\n",
      " 175 253 252  71   0   0   0   0   0   0   0   0   0   0   0   0   0   0\n",
      "   0   0   0   0   0   0   0   0   0   0 144 253 252  71   0   0   0   0\n",
      "   0   0   0   0   0   0   0   0   0   0   0   0   0   0   0   0   0   0\n",
      "   0  16 191 253 252  71   0   0   0   0   0   0   0   0   0   0   0   0\n",
      "   0   0   0   0   0   0   0   0   0   0   0  26 221 253 252 124  31   0\n",
      "   0   0   0   0   0   0   0   0   0   0   0   0   0   0   0   0   0   0\n",
      "   0   0   0   0 125 253 252 252 108   0   0   0   0   0   0   0   0   0\n",
      "   0   0   0   0   0   0   0   0   0   0   0   0   0   0   0 253 252 252\n",
      " 108   0   0   0   0   0   0   0   0   0   0   0   0   0   0   0   0   0\n",
      "   0   0   0   0   0   0   0 255 253 253 108   0   0   0   0   0   0   0\n",
      "   0   0   0   0   0   0   0   0   0   0   0   0   0   0   0   0   0 253\n",
      " 252 252 108   0   0   0   0   0   0   0   0   0   0   0   0   0   0   0\n",
      "   0   0   0   0   0   0   0   0   0 253 252 252 108   0   0   0   0   0\n",
      "   0   0   0   0   0   0   0   0   0   0   0   0   0   0   0   0   0   0\n",
      "   0 253 252 252 108   0   0   0   0   0   0   0   0   0   0   0   0   0\n",
      "   0   0   0   0   0   0   0   0   0   0   0 255 253 253 170   0   0   0\n",
      "   0   0   0   0   0   0   0   0   0   0   0   0   0   0   0   0   0   0\n",
      "   0   0   0 253 252 252 252  42   0   0   0   0   0   0   0   0   0   0\n",
      "   0   0   0   0   0   0   0   0   0   0   0   0   0 149 252 252 252 144\n",
      "   0   0   0   0   0   0   0   0   0   0   0   0   0   0   0   0   0   0\n",
      "   0   0   0   0   0 109 252 252 252 144   0   0   0   0   0   0   0   0\n",
      "   0   0   0   0   0   0   0   0   0   0   0   0   0   0   0   0 218 253\n",
      " 253 255  35   0   0   0   0   0   0   0   0   0   0   0   0   0   0   0\n",
      "   0   0   0   0   0   0   0   0 175 252 252 253  35   0   0   0   0   0\n",
      "   0   0   0   0   0   0   0   0   0   0   0   0   0   0   0   0   0   0\n",
      "  73 252 252 253  35   0   0   0   0   0   0   0   0   0   0   0   0   0\n",
      "   0   0   0   0   0   0   0   0   0   0  31 211 252 253  35   0   0   0\n",
      "   0   0   0   0   0   0   0   0   0   0   0   0   0   0   0   0   0   0\n",
      "   0   0   0   0   0   0   0   0   0   0   0   0   0   0   0   0   0   0\n",
      "   0   0   0   0   0   0   0   0   0   0   0   0   0   0   0   0   0   0\n",
      "   0   0   0   0   0   0   0   0   0   0   0   0   0   0   0   0   0   0\n",
      "   0   0   0   0   0   0   0   0   0   0   0   0   0   0   0   0   0   0\n",
      "   0   0   0   0   0   0   0   0   0   0   0   0   0   0   0   0   0   0\n",
      "   0   0   0   0   0   0   0   0   0   0]\n"
     ]
    }
   ],
   "source": [
    "#check the image format after flattening\n",
    "print(x_train[2])"
   ]
  },
  {
   "cell_type": "code",
   "execution_count": 15,
   "metadata": {},
   "outputs": [
    {
     "data": {
      "text/plain": [
       "GaussianNB()"
      ]
     },
     "execution_count": 15,
     "metadata": {},
     "output_type": "execute_result"
    }
   ],
   "source": [
    "#importing Bayesian classifier from sklearn\n",
    "from sklearn.naive_bayes import GaussianNB\n",
    "GNB_classifier = GaussianNB()\n",
    "GNB_classifier.fit(x_train, y_train)"
   ]
  },
  {
   "cell_type": "code",
   "execution_count": 16,
   "metadata": {},
   "outputs": [
    {
     "name": "stdout",
     "output_type": "stream",
     "text": [
      "2115\n"
     ]
    }
   ],
   "source": [
    "#counting test samples which are either 0 or 1\n",
    "c=0\n",
    "for i in range(10000):\n",
    "    if (test_labels_array[i]==1) or (test_labels_array[i]==0) :\n",
    "        c=c+1\n",
    "print(c)\n",
    "        "
   ]
  },
  {
   "cell_type": "code",
   "execution_count": 18,
   "metadata": {},
   "outputs": [],
   "source": [
    "#preparing test dataset\n",
    "x_test =np.ndarray(shape=(c,784),dtype='int32')\n",
    "y_test = np.ndarray(shape=(c),dtype='int32')\n",
    "j=0\n",
    "for i in range(10000):\n",
    "    if ((test_labels_array[i]==1) or (test_labels_array[i]==0)) and j<c:\n",
    "        x_test[j]=test_images_array[i].flatten()\n",
    "        y_test[j]=test_labels_array[i]\n",
    "        j=j+1"
   ]
  },
  {
   "cell_type": "code",
   "execution_count": 19,
   "metadata": {},
   "outputs": [
    {
     "name": "stdout",
     "output_type": "stream",
     "text": [
      "[1 0 1 ... 1 0 1]\n"
     ]
    }
   ],
   "source": [
    "#Classification using Gaussian Naive Bayes\n",
    "predicted = GNB_classifier.predict(x_test)\n",
    "print(predicted)"
   ]
  },
  {
   "cell_type": "code",
   "execution_count": 20,
   "metadata": {},
   "outputs": [],
   "source": [
    "from sklearn import metrics"
   ]
  },
  {
   "cell_type": "code",
   "execution_count": 21,
   "metadata": {},
   "outputs": [
    {
     "name": "stdout",
     "output_type": "stream",
     "text": [
      "\n",
      "Classification report for classifier GaussianNB():\n",
      "              precision    recall  f1-score   support\n",
      "\n",
      "           0       0.98      1.00      0.99       980\n",
      "           1       1.00      0.98      0.99      1135\n",
      "\n",
      "    accuracy                           0.99      2115\n",
      "   macro avg       0.99      0.99      0.99      2115\n",
      "weighted avg       0.99      0.99      0.99      2115\n",
      "\n",
      "\n",
      "\n",
      "Confusion matrix:\n",
      "[[ 976    4]\n",
      " [  22 1113]]\n",
      "\n",
      "Accuracy of the Algorithm:  0.9877068557919622\n"
     ]
    },
    {
     "data": {
      "image/png": "[encoded data removed]",
      "text/plain": [
       "<Figure size 432x288 with 2 Axes>"
      ]
     },
     "metadata": {
      "needs_background": "light"
     },
     "output_type": "display_data"
    }
   ],
   "source": [
    "#Summarising results\n",
    "print(\"\\nClassification report for classifier %s:\\n%s\\n\" % (GNB_classifier, metrics.classification_report(y_test, predicted)))\n",
    "disp = metrics.plot_confusion_matrix(GNB_classifier, x_test, y_test)\n",
    "disp.figure_.suptitle(\"Confusion Matrix\")\n",
    "print(\"\\nConfusion matrix:\\n%s\" % disp.confusion_matrix)\n",
    "print(\"\\nAccuracy of the Algorithm: \", GNB_classifier.score(x_test, y_test))\n",
    "plt.show()"
   ]
  },
  {
   "cell_type": "code",
   "execution_count": 22,
   "metadata": {},
   "outputs": [],
   "source": [
    "from sklearn.metrics import roc_curve, auc ,roc_auc_score\n",
    "from sklearn.preprocessing import label_binarize"
   ]
  },
  {
   "cell_type": "code",
   "execution_count": 23,
   "metadata": {},
   "outputs": [
    {
     "name": "stdout",
     "output_type": "stream",
     "text": [
      "0.9882675537175223\n"
     ]
    }
   ],
   "source": [
    "#Drawing ROC curve\n",
    "y_pred_binarise = label_binarize(predicted, classes=[0,1])\n",
    "y_test_binarise = label_binarize(y_test, classes=[0,1])\n",
    "roc_auc = roc_auc_score(y_test_binarise, y_pred_binarise)\n",
    "print(roc_auc)\n",
    "fpr, tpr, thresh1 = roc_curve(y_test_binarise, y_pred_binarise)"
   ]
  },
  {
   "cell_type": "code",
   "execution_count": 24,
   "metadata": {},
   "outputs": [
    {
     "data": {
      "image/png": "[encoded data removed]",
      "text/plain": [
       "<Figure size 432x288 with 1 Axes>"
      ]
     },
     "metadata": {
      "needs_background": "light"
     },
     "output_type": "display_data"
    }
   ],
   "source": [
    "plt.figure()\n",
    "plt.plot(fpr, tpr,label=' ROC curve for 0-1 classification(area = {0:0.2f})'\n",
    "               ''.format(roc_auc),color='deeppink', linestyle=':', linewidth=5 )\n",
    "plt.xlim([0.0, 1.0])\n",
    "plt.ylim([0.0, 1.05])\n",
    "plt.xlabel('False Positive Rate')\n",
    "plt.ylabel('True Positive Rate')\n",
    "plt.legend(loc=\"lower right\")\n",
    "\n",
    "plt.show()"
   ]
  },
  {
   "cell_type": "code",
   "execution_count": 25,
   "metadata": {},
   "outputs": [
    {
     "name": "stdout",
     "output_type": "stream",
     "text": [
      "11982\n"
     ]
    }
   ],
   "source": [
    "#Classifier to distinguish digits 3 and 8\n",
    "c=0\n",
    "for i in range(60000):\n",
    "    if (train_labels_array[i]==3) or (train_labels_array[i]==8) :\n",
    "        c=c+1\n",
    "print(c)\n",
    "        "
   ]
  },
  {
   "cell_type": "code",
   "execution_count": 26,
   "metadata": {},
   "outputs": [],
   "source": [
    "#filtering data images and labels which are either 3 or 8\n",
    "x_train =np.ndarray(shape=(c,784),dtype='int32')\n",
    "y_train = np.ndarray(shape=(c),dtype='int32')\n",
    "j=0\n",
    "for i in range(60000):\n",
    "    if ((train_labels_array[i]==3) or (train_labels_array[i]==8)) and j<c:\n",
    "        x_train[j]=train_images_array[i].flatten()\n",
    "        y_train[j]=train_labels_array[i]\n",
    "        j=j+1\n"
   ]
  },
  {
   "cell_type": "code",
   "execution_count": 27,
   "metadata": {},
   "outputs": [
    {
     "data": {
      "text/plain": [
       "GaussianNB()"
      ]
     },
     "execution_count": 27,
     "metadata": {},
     "output_type": "execute_result"
    }
   ],
   "source": [
    "from sklearn.naive_bayes import GaussianNB\n",
    "GNB_classifier = GaussianNB()\n",
    "GNB_classifier.fit(x_train, y_train)"
   ]
  },
  {
   "cell_type": "code",
   "execution_count": 28,
   "metadata": {},
   "outputs": [
    {
     "name": "stdout",
     "output_type": "stream",
     "text": [
      "1984\n"
     ]
    }
   ],
   "source": [
    "#counting test data which are either 3 or 8\n",
    "c=0\n",
    "for i in range(10000):\n",
    "    if (test_labels_array[i]==3) or (test_labels_array[i]==8) :\n",
    "        c=c+1\n",
    "print(c)"
   ]
  },
  {
   "cell_type": "code",
   "execution_count": 29,
   "metadata": {},
   "outputs": [],
   "source": [
    "#redefining test dataset for 2nd classification\n",
    "x_test =np.ndarray(shape=(c,784),dtype='int32')\n",
    "y_test = np.ndarray(shape=(c),dtype='int32')\n",
    "j=0\n",
    "for i in range(0,9999):\n",
    "    if ((test_labels_array[i]==3) or (test_labels_array[i]==8)) and j<c:\n",
    "        x_test[j]=test_images_array[i].flatten()\n",
    "        y_test[j]=test_labels_array[i]\n",
    "        j=j+1"
   ]
  },
  {
   "cell_type": "code",
   "execution_count": 30,
   "metadata": {},
   "outputs": [
    {
     "name": "stdout",
     "output_type": "stream",
     "text": [
      "[3 3 3 ... 8 3 8]\n"
     ]
    }
   ],
   "source": [
    "print(y_train)"
   ]
  },
  {
   "cell_type": "code",
   "execution_count": 31,
   "metadata": {},
   "outputs": [],
   "source": [
    "#Classification for digits 3 and 8\n",
    "predicted = GNB_classifier.predict(x_test)"
   ]
  },
  {
   "cell_type": "code",
   "execution_count": 32,
   "metadata": {},
   "outputs": [
    {
     "name": "stdout",
     "output_type": "stream",
     "text": [
      "\n",
      "Classification report for classifier GaussianNB():\n",
      "              precision    recall  f1-score   support\n",
      "\n",
      "           3       0.95      0.43      0.59      1010\n",
      "           8       0.62      0.98      0.76       974\n",
      "\n",
      "    accuracy                           0.70      1984\n",
      "   macro avg       0.79      0.70      0.68      1984\n",
      "weighted avg       0.79      0.70      0.68      1984\n",
      "\n",
      "\n",
      "\n",
      "Confusion matrix:\n",
      "[[435 575]\n",
      " [ 22 952]]\n",
      "\n",
      "Accuracy of the Algorithm:  0.6990927419354839\n"
     ]
    },
    {
     "data": {
      "image/png": "[encoded data removed]",
      "text/plain": [
       "<Figure size 432x288 with 2 Axes>"
      ]
     },
     "metadata": {
      "needs_background": "light"
     },
     "output_type": "display_data"
    }
   ],
   "source": [
    "#Summarising results\n",
    "print(\"\\nClassification report for classifier %s:\\n%s\\n\" % (GNB_classifier, metrics.classification_report(y_test, predicted)))\n",
    "disp = metrics.plot_confusion_matrix(GNB_classifier, x_test, y_test)\n",
    "disp.figure_.suptitle(\"Confusion Matrix\")\n",
    "print(\"\\nConfusion matrix:\\n%s\" % disp.confusion_matrix)\n",
    "print(\"\\nAccuracy of the Algorithm: \", GNB_classifier.score(x_test, y_test))\n",
    "plt.show()"
   ]
  },
  {
   "cell_type": "code",
   "execution_count": 33,
   "metadata": {},
   "outputs": [
    {
     "name": "stdout",
     "output_type": "stream",
     "text": [
      "0.7040529001565454\n"
     ]
    }
   ],
   "source": [
    "#Drawing ROC curve\n",
    "y_pred_binarise = label_binarize(predicted, classes=[3,8])\n",
    "y_test_binarise = label_binarize(y_test, classes=[3,8])\n",
    "roc_auc = roc_auc_score(y_test_binarise, y_pred_binarise)\n",
    "print(roc_auc)\n",
    "fpr, tpr, thresh1 = roc_curve(y_test_binarise, y_pred_binarise)"
   ]
  },
  {
   "cell_type": "code",
   "execution_count": 34,
   "metadata": {},
   "outputs": [
    {
     "data": {
      "image/png": "[encoded data removed]",
      "text/plain": [
       "<Figure size 432x288 with 1 Axes>"
      ]
     },
     "metadata": {
      "needs_background": "light"
     },
     "output_type": "display_data"
    }
   ],
   "source": [
    "plt.figure()\n",
    "plt.plot(fpr, tpr,label=' ROC curve for 3-8 classification(area = {0:0.2f})'\n",
    "               ''.format(roc_auc),color='orange', linestyle=':', linewidth=5 )\n",
    "plt.xlim([0.0, 1.0])\n",
    "plt.ylim([0.0, 1.05])\n",
    "plt.xlabel('False Positive Rate')\n",
    "plt.ylabel('True Positive Rate')\n",
    "plt.legend(loc=\"lower right\")\n",
    "\n",
    "plt.show()\n"
   ]
  },
  {
   "cell_type": "code",
   "execution_count": null,
   "metadata": {},
   "outputs": [],
   "source": []
  }
 ],
 "metadata": {
  "kernelspec": {
   "display_name": "Python 3",
   "language": "python",
   "name": "python3"
  },
  "language_info": {
   "codemirror_mode": {
    "name": "ipython",
    "version": 3
   },
   "file_extension": ".py",
   "mimetype": "text/x-python",
   "name": "python",
   "nbconvert_exporter": "python",
   "pygments_lexer": "ipython3",
   "version": "3.8.3"
  }
 },
 "nbformat": 4,
 "nbformat_minor": 4
}
